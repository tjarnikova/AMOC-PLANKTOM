{
 "cells": [
  {
   "cell_type": "markdown",
   "id": "2ec0cb03",
   "metadata": {},
   "source": [
    "## calculate climatological flux correction"
   ]
  },
  {
   "cell_type": "code",
   "execution_count": 1,
   "id": "35341619-f893-4ed8-ae5b-13add39666ac",
   "metadata": {},
   "outputs": [],
   "source": [
    "import numpy as np\n",
    "from cmocean import cm\n",
    "import cartopy as cp\n",
    "import cartopy.crs as ccrs\n",
    "import netCDF4 as nc\n",
    "import matplotlib.pyplot as plt\n",
    "import xarray as xr\n",
    "import os\n",
    "\n",
    "%matplotlib inline\n",
    "import warnings\n",
    "from datetime import datetime\n",
    "warnings.filterwarnings('ignore')\n",
    "import cartopy.feature as cfeature\n",
    "from importlib import reload\n",
    "import matplotlib.path as mpath\n",
    "import glob\n",
    "import pickle\n",
    "import pandas as pd\n",
    "import seawater\n",
    "import time\n",
    "plt.rcParams.update({'font.size': 13})\n",
    "font = {'family' : 'normal',\n",
    "'weight' : 'normal',\n",
    "'size'   : 13}\n",
    "plt.rcParams['text.usetex'] = True\n",
    "plt.rc('font', **font)"
   ]
  },
  {
   "cell_type": "code",
   "execution_count": 2,
   "id": "621a0219",
   "metadata": {},
   "outputs": [
    {
     "data": {
      "text/plain": [
       "Text(0.5, 1.0, 'global avg mean wfo diff, monthly \\n (yearly mean v small: 2.3778268618516067e-08 kg/m2/s)')"
      ]
     },
     "execution_count": 2,
     "metadata": {},
     "output_type": "execute_result"
    },
    {
     "data": {
      "image/png": "[encoded data removed]",
      "text/plain": [
       "<Figure size 432x288 with 1 Axes>"
      ]
     },
     "metadata": {
      "needs_background": "light"
     },
     "output_type": "display_data"
    }
   ],
   "source": [
    "view = True\n",
    "if view:\n",
    "\n",
    "    tvar = 'wfo'\n",
    "    KDD0 = xr.open_dataset(f'./data/KDD0_{tvar}.nc')\n",
    "    KWD0 = xr.open_dataset(f'./data/KWD0_{tvar}.nc')\n",
    "\n",
    "\n",
    "#     KDD0['time_counter'] = KDD0.indexes['time_counter'].to_datetimeindex()\n",
    "#     KWD0['time_counter'] = KWD0.indexes['time_counter'].to_datetimeindex()\n",
    "\n",
    "    KWD0_clim = KWD0.sel(time_counter=slice(f'{1980}-01-01', f'{2019}-12-31')).mean(\"time_counter\")\n",
    "    KDD0_clim = KDD0.sel(time_counter=slice(f'{1980}-01-01', f'{2019}-12-31')).mean(\"time_counter\")\n",
    "    \n",
    "  \n",
    "tmask = xr.open_dataset('/gpfs/home/mep22dku/scratch/SOZONE/UTILS/mesh_mask3_6.nc')\n",
    "\n",
    "KWD = KWD0_clim.weighted(tmask.csize).mean(dim = ['y','x'])\n",
    "KDD = KDD0_clim.weighted(tmask.csize).mean(dim = ['y','x'])\n",
    "\n",
    "\n",
    "# print('climatological global empave diff is small')\n",
    "# print(KDD.wfo.values-KWD.wfo.values)\n",
    "\n",
    "KWD0_40y = KWD0.sel(time_counter=slice(f'{1980}-01-01', f'{2019}-12-31')).groupby(\"time_counter.month\").mean(\"time_counter\")\n",
    "KDD0_40y = KDD0.sel(time_counter=slice(f'{1980}-01-01', f'{2019}-12-31')).groupby(\"time_counter.month\").mean(\"time_counter\")\n",
    "\n",
    "diff_D = KDD0_40y - KWD0_40y\n",
    "\n",
    "mean_ts = diff_D.weighted(tmask.csize).mean(dim = ['y','x'])\n",
    "\n",
    "plt.plot(np.arange(1,13), mean_ts.wfo.values)\n",
    "plt.title('global avg mean wfo diff, monthly \\n (yearly mean v small: 2.3778268618516067e-08 kg/m2/s)')"
   ]
  },
  {
   "cell_type": "markdown",
   "id": "8b21ba11",
   "metadata": {},
   "source": [
    "## map of summer and winter EMPave"
   ]
  },
  {
   "cell_type": "markdown",
   "id": "5a04d95d",
   "metadata": {},
   "source": [
    "## create daily adjustments (at monthly resolution, nothing fancy)"
   ]
  },
  {
   "cell_type": "code",
   "execution_count": 3,
   "id": "724c6ac5",
   "metadata": {},
   "outputs": [
    {
     "name": "stdout",
     "output_type": "stream",
     "text": [
      "(12, 149, 182)\n"
     ]
    }
   ],
   "source": [
    "\n",
    "diff_D = diff_D.rename({\"month\": \"time\"})\n",
    "diff_clim = diff_D.wfo.values\n",
    "print(np.shape(diff_clim))\n",
    "\n",
    "#days of year\n",
    "nlys = np.array([1, 32, 60, 91, 121, 152, 182, 213, 244, 274, 305, 335,365])\n",
    "lys = np.array([1, 32, 61, 92, 122, 153, 183, 214, 245, 275, 306, 336,366])\n",
    "\n",
    "lydiff = np.zeros([366,149,182])\n",
    "nlydiff = np.zeros([365,149,182])\n",
    "\n",
    "#corrector\n",
    "for i in range(0,12):\n",
    "    \n",
    "    lydiff[lys[i]:lys[i+1],:,:] = diff_clim[i,:,:]\n",
    "    nlydiff[nlys[i]:nlys[i+1],:,:] = diff_clim[i,:,:]\n",
    "    "
   ]
  },
  {
   "cell_type": "code",
   "execution_count": 4,
   "id": "86abce06-9514-4c26-847d-0ded96349a2c",
   "metadata": {},
   "outputs": [],
   "source": [
    "def is_leap_year(year):\n",
    "    # Check if year is divisible by 4, but not 100, or if it's divisible by 400\n",
    "    if (year % 4 == 0 and year % 100 != 0) or (year % 400 == 0):\n",
    "        return True\n",
    "    else:\n",
    "        return False\n"
   ]
  },
  {
   "cell_type": "markdown",
   "id": "ca84a108",
   "metadata": {},
   "source": [
    "## produce the flux-corrected rain and snow field (global monthly, global monthly 2x, 5x, 10x)"
   ]
  },
  {
   "cell_type": "markdown",
   "id": "9aab3f78",
   "metadata": {},
   "source": [
    "### for 1920-1940, we use 1990- non leap year, needs to be dealt with differently"
   ]
  },
  {
   "cell_type": "code",
   "execution_count": 5,
   "id": "23f027b5",
   "metadata": {},
   "outputs": [],
   "source": [
    "\n",
    "def make_and_symlink_flux_dirs(ndir, scal):\n",
    "\n",
    "    os.makedirs(f'/gpfs/data/greenocean/software/products/ERA5_v202303_TJ/{ndir}', exist_ok=True)\n",
    "    print(f'scaling factor {scal}')\n",
    "    print(f'directory in /gpfs/data/greenocean/software/products/ERA5_v202303_TJ/{ndir}')\n",
    "    print()\n",
    "\n",
    "    for yr in range(1920,1940):\n",
    "        \n",
    "        if (yr%20 == 0): print(yr)\n",
    "        odir = '/gpfs/data/greenocean/software/products/ERA5_v202303_TJ/'\n",
    "        w = xr.open_dataset(f'{odir}/era5_bulk_13_y{yr}.nc', decode_times=False)\n",
    "        w['prra'] = w['prra'] - nlydiff * scal\n",
    "        w.to_netcdf(f'/gpfs/data/greenocean/software/products/ERA5_v202303_TJ/{ndir}/era5_bulk_13_y{yr}.nc')\n",
    " \n",
    "        w = xr.open_dataset(f'{odir}/era5_bulk_14_y{yr}.nc', decode_times=False)\n",
    "        w['prsn'] = w['prsn'] - nlydiff * scal\n",
    "        w.to_netcdf(f'/gpfs/data/greenocean/software/products/ERA5_v202303_TJ/{ndir}/era5_bulk_14_y{yr}.nc')\n",
    "        \n",
    "    for yr in range(1940,2024):\n",
    "        \n",
    "        if (yr%20 == 0): print(yr)\n",
    "        odir = '/gpfs/data/greenocean/software/products/ERA5_v202303_TJ/'\n",
    "        ## global monthly corrected\n",
    "        w = xr.open_dataset(f'{odir}/era5_bulk_13_y{yr}.nc', decode_times=False)\n",
    "        if is_leap_year(yr): w['prra'] = w['prra'] - lydiff * scal\n",
    "        else: w['prra'] = w['prra'] - nlydiff * scal\n",
    "        w.to_netcdf(f'/gpfs/data/greenocean/software/products/ERA5_v202303_TJ/{ndir}/era5_bulk_13_y{yr}.nc')\n",
    " \n",
    "        w = xr.open_dataset(f'{odir}/era5_bulk_14_y{yr}.nc', decode_times=False)\n",
    "        if is_leap_year(yr): w['prsn'] = w['prsn'] - lydiff * scal\n",
    "        else: w['prsn'] = w['prsn'] - nlydiff * scal\n",
    "        w.to_netcdf(f'/gpfs/data/greenocean/software/products/ERA5_v202303_TJ/{ndir}/era5_bulk_14_y{yr}.nc')\n",
    "        \n",
    "    print('do the symlinking of non-rain things')\n",
    "    for y in range(1920,2024):\n",
    "        if (y%20 == 0): print(y)\n",
    "        for b in range(8,16):\n",
    "            if ((b != 13) & (b != 14)):\n",
    "                try:\n",
    "                    src = f'{odir}era5_bulk_{b}_y{y}.nc'\n",
    "                    dst = f'{odir}/{ndir}/era5_bulk_{b}_y{y}.nc'\n",
    "                    os.symlink(src,dst)\n",
    "\n",
    "                    #print(f'year {y} bulk variable {b} GO!')\n",
    "                except:\n",
    "                    print(f'didnt work for year {y} bulk variable {b}')\n",
    "                    \n",
    "        try:\n",
    "            src = f'{odir}/taux_1d_y{y}.nc'\n",
    "            dst = f'{odir}/{ndir}/taux_1d_y{y}.nc'\n",
    "            os.symlink(src,dst)\n",
    "\n",
    "        except:\n",
    "            print(f'year {y} taux is off')\n",
    "        try:\n",
    "            src = f'{odir}/tauy_1d_y{y}.nc'\n",
    "            dst = f'{odir}/{ndir}/tauy_1d_y{y}.nc'\n",
    "            os.symlink(src,dst)\n",
    "\n",
    "        except:\n",
    "            print(f'year {y} tauy is off')"
   ]
  },
  {
   "cell_type": "code",
   "execution_count": 6,
   "id": "2cddfcd5-5363-4231-8c1b-4e28e7a648b2",
   "metadata": {},
   "outputs": [],
   "source": [
    "# make_and_symlink_flux_dirs('fc_glob3pt0', 3)\n",
    "# make_and_symlink_flux_dirs('fc_glob4pt5', 4.5)\n",
    "# make_and_symlink_flux_dirs('fc_glob4pt8', 4.8)\n",
    "# make_and_symlink_flux_dirs('fc_glob5pt0', 5)\n",
    "# make_and_symlink_flux_dirs('fc_glob5pt2', 5.2)\n",
    "# make_and_symlink_flux_dirs('fc_glob5pt5', 5.5)\n",
    "# make_and_symlink_flux_dirs('fc_glob7pt0', 7)"
   ]
  },
  {
   "cell_type": "code",
   "execution_count": 7,
   "id": "6b02a08d-9310-44f3-ab43-f51ed847f57c",
   "metadata": {},
   "outputs": [],
   "source": [
    "\n",
    "def make_and_symlink_1750_1920(ndir, scal):\n",
    "\n",
    "    os.makedirs(f'/gpfs/data/greenocean/software/products/ERA5_v202303_TJ/{ndir}', exist_ok=True)\n",
    "    print(f'scaling factor {scal}')\n",
    "    print(f'directory in /gpfs/data/greenocean/software/products/ERA5_v202303_TJ/{ndir}')\n",
    "    print()\n",
    "\n",
    "    for yr in range(1750,1920):\n",
    "        \n",
    "        if (yr%20 == 0): print(yr)\n",
    "        odir = '/gpfs/data/greenocean/software/products/ERA5_v202303_TJ/'\n",
    "        w = xr.open_dataset(f'{odir}/era5_bulk_13_y{yr}.nc', decode_times=False)\n",
    "        w['prra'] = w['prra'] - nlydiff * scal\n",
    "        w.to_netcdf(f'/gpfs/data/greenocean/software/products/ERA5_v202303_TJ/{ndir}/era5_bulk_13_y{yr}.nc')\n",
    " \n",
    "        w = xr.open_dataset(f'{odir}/era5_bulk_14_y{yr}.nc', decode_times=False)\n",
    "        w['prsn'] = w['prsn'] - nlydiff * scal\n",
    "        w.to_netcdf(f'/gpfs/data/greenocean/software/products/ERA5_v202303_TJ/{ndir}/era5_bulk_14_y{yr}.nc')\n",
    "        \n",
    "       \n",
    "    print('do the symlinking of non-rain things')\n",
    "    for y in range(1750,1920):\n",
    "        if (y%20 == 0): print(y)\n",
    "        for b in range(8,16):\n",
    "            if ((b != 13) & (b != 14)):\n",
    "                try:\n",
    "                    src = f'{odir}era5_bulk_{b}_y{y}.nc'\n",
    "                    dst = f'{odir}/{ndir}/era5_bulk_{b}_y{y}.nc'\n",
    "                    os.symlink(src,dst)\n",
    "\n",
    "                    #print(f'year {y} bulk variable {b} GO!')\n",
    "                except:\n",
    "                    print(f'didnt work for year {y} bulk variable {b}')\n",
    "                    \n",
    "        try:\n",
    "            src = f'{odir}/taux_1d_y{y}.nc'\n",
    "            dst = f'{odir}/{ndir}/taux_1d_y{y}.nc'\n",
    "            os.symlink(src,dst)\n",
    "\n",
    "        except:\n",
    "            print(f'year {y} taux is off')\n",
    "        try:\n",
    "            src = f'{odir}/tauy_1d_y{y}.nc'\n",
    "            dst = f'{odir}/{ndir}/tauy_1d_y{y}.nc'\n",
    "            os.symlink(src,dst)\n",
    "\n",
    "        except:\n",
    "            print(f'year {y} tauy is off')"
   ]
  },
  {
   "cell_type": "code",
   "execution_count": 8,
   "id": "cb15ba15-40f3-49b5-bbff-e7d2ae97c068",
   "metadata": {},
   "outputs": [
    {
     "name": "stdout",
     "output_type": "stream",
     "text": [
      "scaling factor 5\n",
      "directory in /gpfs/data/greenocean/software/products/ERA5_v202303_TJ/fc_glob5pt0\n",
      "\n",
      "1760\n",
      "1780\n",
      "1800\n",
      "1820\n",
      "1840\n",
      "1860\n",
      "1880\n",
      "1900\n",
      "do the symlinking of non-rain things\n",
      "1760\n",
      "1780\n",
      "1800\n",
      "1820\n",
      "1840\n",
      "1860\n",
      "1880\n",
      "1900\n"
     ]
    }
   ],
   "source": [
    "make_and_symlink_1750_1920('fc_glob5pt0', 5)"
   ]
  }
 ],
 "metadata": {
  "kernelspec": {
   "display_name": "Python 3 (ipykernel)",
   "language": "python",
   "name": "python3"
  },
  "language_info": {
   "codemirror_mode": {
    "name": "ipython",
    "version": 3
   },
   "file_extension": ".py",
   "mimetype": "text/x-python",
   "name": "python",
   "nbconvert_exporter": "python",
   "pygments_lexer": "ipython3",
   "version": "3.7.11"
  }
 },
 "nbformat": 4,
 "nbformat_minor": 5
}
