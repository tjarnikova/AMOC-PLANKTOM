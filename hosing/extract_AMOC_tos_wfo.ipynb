{
 "cells": [
  {
   "cell_type": "markdown",
   "id": "3f8bd87b",
   "metadata": {},
   "source": [
    "### aim: \n",
    "\n",
    "### date: "
   ]
  },
  {
   "cell_type": "code",
   "execution_count": 1,
   "id": "8012f094",
   "metadata": {},
   "outputs": [
    {
     "data": {
      "text/html": [
       "<script>\n",
       "code_show=true; \n",
       "function code_toggle() {\n",
       " if (code_show){\n",
       " $('div.input').hide();\n",
       " } else {\n",
       " $('div.input').show();\n",
       " }\n",
       " code_show = !code_show\n",
       "} \n",
       "$( document ).ready(code_toggle);\n",
       "</script>\n",
       "<form action=\"javascript:code_toggle()\"><input type=\"submit\" value=\"Click here to toggle on/off the raw code.\"></form>"
      ],
      "text/plain": [
       "<IPython.core.display.HTML object>"
      ]
     },
     "execution_count": 1,
     "metadata": {},
     "output_type": "execute_result"
    }
   ],
   "source": [
    "from IPython.display import HTML\n",
    "\n",
    "HTML('''<script>\n",
    "code_show=true; \n",
    "function code_toggle() {\n",
    " if (code_show){\n",
    " $('div.input').hide();\n",
    " } else {\n",
    " $('div.input').show();\n",
    " }\n",
    " code_show = !code_show\n",
    "} \n",
    "$( document ).ready(code_toggle);\n",
    "</script>\n",
    "<form action=\"javascript:code_toggle()\"><input type=\"submit\" value=\"Click here to toggle on/off the raw code.\"></form>''')\n"
   ]
  },
  {
   "cell_type": "code",
   "execution_count": 2,
   "id": "c99f764a",
   "metadata": {},
   "outputs": [
    {
     "name": "stdin",
     "output_type": "stream",
     "text": [
      "Once deleted, variables cannot be recovered. Proceed (y/[n])?  y\n"
     ]
    }
   ],
   "source": [
    "%reset"
   ]
  },
  {
   "cell_type": "code",
   "execution_count": 3,
   "id": "7ba928a5",
   "metadata": {},
   "outputs": [
    {
     "data": {
      "text/plain": [
       "<module 'snippets' from '/gpfs/home/mep22dku/scratch/SOZONE/UTILS/snippets.py'>"
      ]
     },
     "execution_count": 3,
     "metadata": {},
     "output_type": "execute_result"
    }
   ],
   "source": [
    "import numpy as np\n",
    "from cmocean import cm\n",
    "import cartopy as cp\n",
    "import cartopy.crs as ccrs\n",
    "import netCDF4 as nc\n",
    "import matplotlib.pyplot as plt\n",
    "import xarray as xr\n",
    "\n",
    "%matplotlib inline\n",
    "import warnings\n",
    "from datetime import datetime\n",
    "warnings.filterwarnings('ignore')\n",
    "import cartopy.feature as cfeature\n",
    "from importlib import reload\n",
    "import matplotlib.path as mpath\n",
    "import glob\n",
    "import pickle\n",
    "import pandas as pd\n",
    "import seawater\n",
    "import time\n",
    "plt.rcParams.update({'font.size': 13})\n",
    "font = {'family' : 'normal',\n",
    "'weight' : 'normal',\n",
    "'size'   : 13}\n",
    "plt.rcParams['text.usetex'] = True\n",
    "plt.rc('font', **font)\n",
    "\n",
    "import sys\n",
    "sys.path.append('/gpfs/home/mep22dku/scratch/SOZONE/UTILS')\n",
    "import snippets as sp\n",
    "reload(sp)"
   ]
  },
  {
   "cell_type": "code",
   "execution_count": 4,
   "id": "40136eb8-05e3-4fdc-b9c4-5cde2a4f6e8f",
   "metadata": {},
   "outputs": [
    {
     "name": "stdout",
     "output_type": "stream",
     "text": [
      "savenam = 'test2.nc'\n",
      "data_vars = {'vomecrty':(['time_counter', 'depthv', 'y', 'x'], vomecrty.values,\n",
      "{'units': 'µatm',\n",
      "'long_name':'Surface ocean pCO2'}),\n",
      "}\n",
      "# define coordinates\n",
      "coords = {'time_counter': (['time_counter'], time_counter),\n",
      "\t\t'time_centered': (['time_centered'], time_centered),\n",
      "'nav_lat': (['y','x'], nav_lat),\n",
      "'nav_lon': (['y','x'], nav_lon),\n",
      "'depthv': (['depthv'], depthv)}\n",
      "# define global attributes\n",
      "attrs = {'made in':'SOZONE/MEDUSA/makeYearlyMEDUSAsubsetfiles.ipynb',\n",
      "'desc': 'yearly medusa files, saving only variables of interest'\n",
      "}\n",
      "ds = xr.Dataset(data_vars=data_vars,\n",
      "coords=coords,\n",
      "attrs=attrs)\n",
      "ds.to_netcdf(savenam)\n"
     ]
    }
   ],
   "source": [
    "sp.txr()"
   ]
  },
  {
   "cell_type": "markdown",
   "id": "f89c8dc8-2008-4e77-9423-180b4c94d5ca",
   "metadata": {},
   "source": [
    "## code and implementation to extract a 2d field (typically wfo or sos) from a ts"
   ]
  },
  {
   "cell_type": "code",
   "execution_count": 5,
   "id": "117a8772-c37d-4630-8a08-fc81b754bb5d",
   "metadata": {},
   "outputs": [],
   "source": [
    "def make_yearlist(yrst, yrend, tr, dtype = 'grid_T'):\n",
    "    yrs = np.arange(yrst,yrend+1,1)\n",
    "    ylist = []\n",
    "    for i in range(0,len(yrs)):\n",
    "        ty = f'/gpfs/home/mep22dku/scratch/ModelRuns/{tr}/ORCA2_1m_{yrs[i]}*{dtype}*.nc'\n",
    "        t2 = glob.glob(ty)\n",
    "        #print(t2)\n",
    "        #print(t2)\n",
    "        ylist.append(t2[0])\n",
    "    return ylist\n",
    "\n",
    "def save_2d(tr, yrst = 1950, yrend = 2020, tdat = 'wfo'):\n",
    "    \n",
    "    ySRs = xr.open_mfdataset(make_yearlist(yrst,yrend,f'TOM12_TJ_{tr}'))\n",
    "    \n",
    "    single_var = ySRs[tdat]\n",
    "    new_ds = single_var.to_dataset()\n",
    "    \n",
    "    times = pd.date_range(f\"{yrst}/01/01\",f\"{yrend+1}/01/01\",freq='MS',closed='left')\n",
    "    new_ds['time_counter'] = times\n",
    "\n",
    "    try:\n",
    "        new_ds.to_netcdf(f'./data/{tr}_{tdat}.nc')  \n",
    "        print(f'saved ./data/{tr}_{tdat}.nc')\n",
    "    except:\n",
    "        print(f'some problem occured with {tr} {tdat}')"
   ]
  },
  {
   "cell_type": "code",
   "execution_count": 11,
   "id": "55b03fdd-1527-4e7f-879d-d56185679e26",
   "metadata": {},
   "outputs": [
    {
     "name": "stdout",
     "output_type": "stream",
     "text": [
      "saved ./data/KCW0_sos.nc\n",
      "saved ./data/KCD0_sos.nc\n"
     ]
    }
   ],
   "source": [
    "ex = True\n",
    "\n",
    "runs = ['KFD1','KFD2','KFD3','KFD4','KFD5','KFD6','KDD1','KDD2']\n",
    "\n",
    "runs = ['KWD0','KDD0','KFD0','KFD1','KFD2',\\\n",
    "        'KFD3','KFD4','KFD5','KFD6','KDD1',\\\n",
    "        'KDD2','KFD7','KDD3','KCW0','KCD0']\n",
    "runs = ['KCW0','KCD0']\n",
    "\n",
    "if ex:\n",
    "\n",
    "    for r in runs:\n",
    "        #save_2d(r, yrst = 1950, yrend = 2020, tdat = 'wfo')\n",
    "        #save_2d(r, yrst = 1950, yrend = 2020, tdat = 'sos')\n",
    "        save_2d(r, yrst = 1950, yrend = 2020, tdat = 'tos')\n",
    "#remake with ok dates\n",
    "\n"
   ]
  },
  {
   "cell_type": "markdown",
   "id": "6e9f0310-ec4a-475d-8ae6-840c88e01d0d",
   "metadata": {},
   "source": [
    "## code and implementation to extract max amoc "
   ]
  },
  {
   "cell_type": "code",
   "execution_count": 8,
   "id": "a080a745-f5fa-463c-beac-edddaded13d3",
   "metadata": {},
   "outputs": [],
   "source": [
    "def make_yearlist_AMOC(yrst, yrend, tr, baseDir = '/gpfs/home/mep22dku/cdftools/MOCresults/'):\n",
    "    yrs = np.arange(yrst,yrend+1,1)\n",
    "    ylist = []\n",
    "    for i in range(0,len(yrs)):\n",
    "        tyr = yrs[i]\n",
    "        ty = f'{baseDir}{tr}_1m_{tyr}0101*MOC.nc'\n",
    "        t2 = glob.glob(ty)\n",
    "        ylist.append(t2[0])\n",
    "    return ylist\n",
    "\n",
    "def get_max_amoc(moc_dataset):\n",
    "\n",
    "    atl_at_26 = np.squeeze(moc_dataset.zomsfatl.sel(y=94).values)\n",
    "    tshape = np.shape(atl_at_26)\n",
    "    len_ts = tshape[0]\n",
    "\n",
    "    max_atl = np.zeros(len_ts)\n",
    "\n",
    "    for i in range(0,len(max_atl)):\n",
    "        max_atl[i] = np.nanmax(atl_at_26[i,:])\n",
    "        \n",
    "    return max_atl\n",
    "\n",
    "def save_max_amoc(mod):\n",
    "    \n",
    "    KFD0_moc = make_yearlist_AMOC(1920, 2023, f'TOM12_TJ_{mod}')\n",
    "    KFD0_mocdat = xr.open_mfdataset(KFD0_moc)\n",
    "    KFD0_max_amoc = get_max_amoc(KFD0_mocdat)\n",
    "    nicetime  = KFD0_mocdat.indexes['time_counter'].to_datetimeindex()\n",
    "    data_vars = {'amoc':(['time_counter'], KFD0_max_amoc,),}\n",
    "    coords = {'time_counter': (['time_counter'], nicetime)}\n",
    "    KFD0_max_amoc = xr.Dataset(data_vars=data_vars,coords=coords)\n",
    "    KFD0_max_amoc.to_netcdf(f'./data/{mod}_max_amoc.nc')\n",
    "    print(f'saved ./data/{mod}_max_amoc.nc')"
   ]
  },
  {
   "cell_type": "code",
   "execution_count": 9,
   "id": "b5a5a710-da01-41e0-b43b-0fef9ed0aa22",
   "metadata": {},
   "outputs": [
    {
     "name": "stdout",
     "output_type": "stream",
     "text": [
      "saved ./data/KCW0_max_amoc.nc\n",
      "saved ./data/KCD0_max_amoc.nc\n"
     ]
    }
   ],
   "source": [
    "ex = True\n",
    "\n",
    "runs = ['KWD0','KDD0','KFD0','KFD1','KFD2','KFD3',\\\n",
    "        'KFD4','KFD5','KFD6','KDD1','KDD2',]\n",
    "\n",
    "runs = ['KWD0','KFD7','KDD3']\n",
    "runs = ['KCW0','KCD0']\n",
    "\n",
    "\n",
    "if ex:\n",
    "\n",
    "    for r in runs:\n",
    "        try:\n",
    "            save_max_amoc(r)\n",
    "        except:\n",
    "            print(f'problem in amoc calc in {r}')"
   ]
  },
  {
   "cell_type": "code",
   "execution_count": 10,
   "id": "8ca5db6c-2305-4203-85f6-83da8c9e74c9",
   "metadata": {},
   "outputs": [],
   "source": []
  },
  {
   "cell_type": "code",
   "execution_count": 20,
   "id": "c3128e1d-2525-42b2-871f-f725e78d0c2d",
   "metadata": {},
   "outputs": [
    {
     "data": {
      "text/plain": [
       "<matplotlib.collections.QuadMesh at 0x2b4fd68c3790>"
      ]
     },
     "execution_count": 20,
     "metadata": {},
     "output_type": "execute_result"
    },
    {
     "data": {
      "image/png": "[encoded data removed]",
      "text/plain": [
       "<Figure size 432x288 with 1 Axes>"
      ]
     },
     "metadata": {
      "needs_background": "light"
     },
     "output_type": "display_data"
    }
   ],
   "source": [
    "w = xr.open_dataset('./data/KCW0_sos.nc')\n",
    "\n",
    "plt.pcolormesh(w.sos[500,:,:])\n",
    "\n",
    "w = xr.open_dataset(f'./data/KCW0_sos.nc')\n",
    "plt.pcolormesh(w['sos'][0,:,:])"
   ]
  },
  {
   "cell_type": "code",
   "execution_count": null,
   "id": "2800e99b-5c01-4b2b-b10b-bfc471f4f24f",
   "metadata": {},
   "outputs": [],
   "source": []
  }
 ],
 "metadata": {
  "kernelspec": {
   "display_name": "Python 3 (ipykernel)",
   "language": "python",
   "name": "python3"
  },
  "language_info": {
   "codemirror_mode": {
    "name": "ipython",
    "version": 3
   },
   "file_extension": ".py",
   "mimetype": "text/x-python",
   "name": "python",
   "nbconvert_exporter": "python",
   "pygments_lexer": "ipython3",
   "version": "3.7.11"
  }
 },
 "nbformat": 4,
 "nbformat_minor": 5
}
